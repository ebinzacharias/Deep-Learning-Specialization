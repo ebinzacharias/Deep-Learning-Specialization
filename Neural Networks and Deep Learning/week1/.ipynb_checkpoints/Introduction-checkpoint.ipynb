{
 "cells": [
  {
   "cell_type": "markdown",
   "metadata": {},
   "source": [
    "# Introduction to Deep Learning\n",
    "\n",
    "\n",
    "## Supervised Learning"
   ]
  },
  {
   "cell_type": "code",
   "execution_count": null,
   "metadata": {},
   "outputs": [],
   "source": []
  },
  {
   "cell_type": "markdown",
   "metadata": {},
   "source": [
    "#### Has an input x and mapping to an output y\n",
    "\n",
    "Multiple applications such as -\n",
    "Real Estate,\n",
    "Online Advertising,\n",
    "Autonomous Driving,\n",
    "Photo Tagging,\n",
    "Speech Recognition,\n",
    "Machine Translation\n"
   ]
  },
  {
   "cell_type": "code",
   "execution_count": null,
   "metadata": {},
   "outputs": [],
   "source": []
  },
  {
   "cell_type": "markdown",
   "metadata": {},
   "source": [
    "## Examples of NN\n"
   ]
  },
  {
   "cell_type": "markdown",
   "metadata": {},
   "source": [
    "#### Standard NN -- Real Estate, Real Estate\n",
    "#### CNN -- images\n",
    "#### RNN -- sequence data\n",
    "#### Custom/Hybrid -- Autonomous Driving \n",
    "\n",
    "![Examples of NN](NNexamples.jpg)"
   ]
  },
  {
   "cell_type": "code",
   "execution_count": null,
   "metadata": {},
   "outputs": [],
   "source": []
  },
  {
   "cell_type": "markdown",
   "metadata": {},
   "source": [
    "## Types of data\n",
    "\n",
    "\n"
   ]
  },
  {
   "cell_type": "markdown",
   "metadata": {},
   "source": [
    "#### Structured Data\n",
    "\n",
    "Databases of data.\n",
    "Eg. Real Estate\n",
    "\n",
    "#### Unstructured Data\n",
    "\n",
    "Eg. Images, Audio (temporal) signals, text. \n",
    "\n",
    "![Types of data](structured-unstructured.jpg)"
   ]
  },
  {
   "cell_type": "code",
   "execution_count": null,
   "metadata": {},
   "outputs": [],
   "source": []
  },
  {
   "cell_type": "markdown",
   "metadata": {},
   "source": [
    "## Why Deep Learning is so Popular?"
   ]
  },
  {
   "cell_type": "markdown",
   "metadata": {},
   "source": [
    "#### Scale Drives deep learning progress\n",
    "\n",
    "The amount of data along with the size of the NN improves the performance.\n",
    "\n",
    "1. Data\n",
    "2. Computation\n",
    "3. Algorithm\n",
    "\n",
    "    ReLu - in DL in contrast to the sigmoid function.\n",
    "    \n",
    "![](relu.png)\n",
    "  \n",
    "  \n",
    "Faster computation has really helped to improve the overall approach."
   ]
  },
  {
   "cell_type": "code",
   "execution_count": null,
   "metadata": {},
   "outputs": [],
   "source": []
  }
 ],
 "metadata": {
  "kernelspec": {
   "display_name": "Python 3",
   "language": "python",
   "name": "python3"
  },
  "language_info": {
   "codemirror_mode": {
    "name": "ipython",
    "version": 3
   },
   "file_extension": ".py",
   "mimetype": "text/x-python",
   "name": "python",
   "nbconvert_exporter": "python",
   "pygments_lexer": "ipython3",
   "version": "3.5.2"
  }
 },
 "nbformat": 4,
 "nbformat_minor": 2
}
