{
 "cells": [
  {
   "cell_type": "markdown",
   "metadata": {},
   "source": [
    "# Structuring Machine Learning Project\n",
    "\n",
    "### Machine Learning Strategy"
   ]
  },
  {
   "cell_type": "markdown",
   "metadata": {},
   "source": [
    "![](ml-development-cycle.png)"
   ]
  },
  {
   "cell_type": "markdown",
   "metadata": {},
   "source": [
    "#### Ideas to improve the the system after training\n",
    "\n",
    "1. Collect more data\n",
    "2. more diverse data\n",
    "3. train longer with gradient descent\n",
    "4. try different optimization algorithm\n",
    "5. Try a bigger network or small\n",
    "6. Try dropout or L2 regularization\n",
    "\n",
    "Choosing the correct idea is very critical !"
   ]
  },
  {
   "cell_type": "markdown",
   "metadata": {},
   "source": [
    "### Chain of assumptions in ML\n",
    "\n",
    "1. Fit Training set well on cost function\n",
    "\n",
    "    > Train a bigger network or switch to a better optimization algorithm\n",
    "    \n",
    "2. Fit dev set well on cost function\n",
    "    \n",
    "    > Regularization\n",
    "    > Bigger Training set\n",
    "    \n",
    "3. Fit test set well on cost function\n",
    "\n",
    "    > Bigger Dev set \n",
    "    \n",
    "4. Performs well in real world\n",
    "\n",
    "    > Change either the dev set or cost function.\n",
    "    "
   ]
  },
  {
   "cell_type": "markdown",
   "metadata": {},
   "source": [
    "### Single number evaluation metric"
   ]
  },
  {
   "cell_type": "markdown",
   "metadata": {},
   "source": [
    "![](single.png)"
   ]
  },
  {
   "cell_type": "markdown",
   "metadata": {},
   "source": [
    "### Satisficing and Optimizing metric"
   ]
  },
  {
   "cell_type": "markdown",
   "metadata": {},
   "source": [
    "![](hqdefault.jpg)"
   ]
  },
  {
   "cell_type": "markdown",
   "metadata": {},
   "source": [
    "if you have N matrix that you care about it's sometimes reasonable to pick one of them to be optimizing. So you want to do as well as is possible on that one. And then N minus 1 to be satisficing, meaning that so long as they reach some threshold such as running times faster than 100 milliseconds, but so long as they reach some threshold, you don't care how much better it is in that threshold, but they have to reach that threshold."
   ]
  },
  {
   "cell_type": "markdown",
   "metadata": {},
   "source": [
    "### Train/dev/test set distributions\n",
    "\n",
    "choose a dev set and test set to reflect data you expect to get in future and consider important to do well on. \n",
    "\n",
    "And, in particular, the dev set and the test set here, should come from the same distribution.\n",
    "\n",
    "Setting up the dev set, as well as the validation metric, is really defining what target you want to aim at. And hopefully, by setting the dev set and the test set to the same distribution, you're really aiming at whatever target you hope your machine learning team will hit. \n",
    "\n",
    "### Size of the dev and test sets\n",
    "\n",
    "#### train/dev/test set\n",
    "\n",
    "Conventionally, 70/30 % or 70/20/20%\n",
    "\n",
    "However depending on the size of the dataset, this can be varied.\n",
    "\n",
    "Eg. Dataset = 1000000\n",
    "\n",
    "therefore, a 98/1/1% will be enough !"
   ]
  },
  {
   "cell_type": "markdown",
   "metadata": {},
   "source": [
    "### Improving model Performance\n",
    "\n",
    "1. Fit the training set well \n",
    "    > Achieve low avoidable bias\n",
    "    \n",
    "2. Training set performance generalises pretty well in the dev/test set.\n",
    "    > Variance is not too bad\n",
    "    \n",
    "\n",
    "#### Reducing (avoidable) bias and variance\n",
    "\n",
    "Human level\n",
    "\n",
    "> Avoidable Bias\n",
    "\n",
    "    Train bigger model\n",
    "    Train longer/better optimization algorithm - momentum, rmsprop, adam etc\n",
    "    Better NN architecture / hyperparameters search - RNN, CNN\n",
    "    \n",
    "\n",
    "Training Error\n",
    "\n",
    "> Variance\n",
    "\n",
    "    More Data - generalises better\n",
    "    regularization - L2, dropout, data augmentation\n",
    "    Better NN architecture / hyperparameters search - RNN, CNN\n",
    "\n",
    "Dev Error\n"
   ]
  },
  {
   "cell_type": "markdown",
   "metadata": {},
   "source": [
    "## Error Analysis"
   ]
  },
  {
   "cell_type": "markdown",
   "metadata": {},
   "source": [
    "### Ceiling Analysis\n",
    "\n",
    "Check mislabeled results (eg. classification problem)\n",
    "\n",
    "Consider all the incorrect cases and possible improvements and account for the percentage of error of each.\n",
    "Include incorrect labels as a column to analyse.\n",
    "\n",
    "Work on improving problems that has significant improvement potential, thus increasing the overall accuracy o the model."
   ]
  },
  {
   "cell_type": "markdown",
   "metadata": {},
   "source": [
    "### Build your first system quickly, then iterate"
   ]
  },
  {
   "cell_type": "markdown",
   "metadata": {},
   "source": [
    "## Training and testing on different distributions\n",
    "\n",
    "1. Take images from both the distributions and randomly shuffle them into a train, dev, and test set. \n",
    "\n",
    "#### advantage \n",
    "\n",
    "dev and test sets will all come from the same distribution, so that makes it easier to manage.\n",
    "\n",
    "#### huge disadvantage, \n",
    "\n",
    "dev set, large amount of data can be from one distribution which is not your target distribution.\n",
    "\n"
   ]
  },
  {
   "cell_type": "code",
   "execution_count": null,
   "metadata": {},
   "outputs": [],
   "source": []
  }
 ],
 "metadata": {
  "kernelspec": {
   "display_name": "Python 3",
   "language": "python",
   "name": "python3"
  },
  "language_info": {
   "codemirror_mode": {
    "name": "ipython",
    "version": 3
   },
   "file_extension": ".py",
   "mimetype": "text/x-python",
   "name": "python",
   "nbconvert_exporter": "python",
   "pygments_lexer": "ipython3",
   "version": "3.5.2"
  }
 },
 "nbformat": 4,
 "nbformat_minor": 2
}
